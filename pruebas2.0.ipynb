{
 "cells": [
  {
   "cell_type": "code",
   "execution_count": 12,
   "id": "d15029cc",
   "metadata": {},
   "outputs": [],
   "source": [
    "from SdM_1 import Persona, UnidadCurricular, PlanDeEstudio, Curso, InstanciaDeExamen, Coordinadora, Secretaria, Estudiante"
   ]
  },
  {
   "cell_type": "markdown",
   "id": "2b43ed63",
   "metadata": {},
   "source": [
    "1. Creando coordinadora y secretaria pasando como argumento una carrera no disponible"
   ]
  },
  {
   "cell_type": "code",
   "execution_count": 13,
   "id": "6fdb6a60",
   "metadata": {},
   "outputs": [
    {
     "ename": "CarreraInvalidaError",
     "evalue": "Carrera inválida: Ingeniería Biomédica",
     "output_type": "error",
     "traceback": [
      "\u001b[1;31m---------------------------------------------------------------------------\u001b[0m",
      "\u001b[1;31mCarreraInvalidaError\u001b[0m                      Traceback (most recent call last)",
      "Cell \u001b[1;32mIn[13], line 1\u001b[0m\n\u001b[1;32m----> 1\u001b[0m coordinadora \u001b[38;5;241m=\u001b[39m \u001b[43mCoordinadora\u001b[49m\u001b[43m(\u001b[49m\u001b[38;5;124;43m\"\u001b[39;49m\u001b[38;5;124;43mElla\u001b[39;49m\u001b[38;5;124;43m\"\u001b[39;49m\u001b[43m,\u001b[49m\u001b[43m \u001b[49m\u001b[38;5;124;43m\"\u001b[39;49m\u001b[38;5;124;43mEscandon\u001b[39;49m\u001b[38;5;124;43m\"\u001b[39;49m\u001b[43m,\u001b[49m\u001b[43m \u001b[49m\u001b[38;5;124;43m\"\u001b[39;49m\u001b[38;5;124;43mIngeniería Biomédica\u001b[39;49m\u001b[38;5;124;43m\"\u001b[39;49m\u001b[43m)\u001b[49m\n",
      "File \u001b[1;32mc:\\Users\\test1\\OneDrive\\Escritorio\\PDA\\TP V2\\SdM_1.py:594\u001b[0m, in \u001b[0;36mCoordinadora.__init__\u001b[1;34m(self, nombre, apellido, carrera)\u001b[0m\n\u001b[0;32m    586\u001b[0m \u001b[38;5;28;01mdef\u001b[39;00m \u001b[38;5;21m__init__\u001b[39m(\u001b[38;5;28mself\u001b[39m, nombre, apellido, carrera):\n\u001b[0;32m    587\u001b[0m \u001b[38;5;250m    \u001b[39m\u001b[38;5;124;03m\"\"\"\u001b[39;00m\n\u001b[0;32m    588\u001b[0m \u001b[38;5;124;03m    Inicializa una instancia de la clase Coordinadora.\u001b[39;00m\n\u001b[0;32m    589\u001b[0m \n\u001b[1;32m   (...)\u001b[0m\n\u001b[0;32m    592\u001b[0m \u001b[38;5;124;03m        apellido (str): Apellido de la coordinadora.\u001b[39;00m\n\u001b[0;32m    593\u001b[0m \u001b[38;5;124;03m    \"\"\"\u001b[39;00m\n\u001b[1;32m--> 594\u001b[0m     \u001b[38;5;28;43msuper\u001b[39;49m\u001b[43m(\u001b[49m\u001b[43m)\u001b[49m\u001b[38;5;241;43m.\u001b[39;49m\u001b[38;5;21;43m__init__\u001b[39;49m\u001b[43m(\u001b[49m\u001b[43mnombre\u001b[49m\u001b[43m,\u001b[49m\u001b[43m \u001b[49m\u001b[43mapellido\u001b[49m\u001b[43m,\u001b[49m\u001b[43mcarrera\u001b[49m\u001b[43m)\u001b[49m\n\u001b[0;32m    595\u001b[0m     \u001b[38;5;28;01mif\u001b[39;00m carrera \u001b[38;5;129;01mnot\u001b[39;00m \u001b[38;5;129;01min\u001b[39;00m CARRERAS_DISPONIBLES:\n\u001b[0;32m    596\u001b[0m         \u001b[38;5;28;01mraise\u001b[39;00m CarreraInvalidaError(\u001b[38;5;124mf\u001b[39m\u001b[38;5;124m\"\u001b[39m\u001b[38;5;124mCarrera inválida: \u001b[39m\u001b[38;5;132;01m{\u001b[39;00mcarrera\u001b[38;5;132;01m}\u001b[39;00m\u001b[38;5;124m\"\u001b[39m)\n",
      "File \u001b[1;32mc:\\Users\\test1\\OneDrive\\Escritorio\\PDA\\TP V2\\SdM_1.py:42\u001b[0m, in \u001b[0;36mPersona.__init__\u001b[1;34m(self, nombre, apellido, carrera)\u001b[0m\n\u001b[0;32m     40\u001b[0m             \u001b[38;5;28;01mraise\u001b[39;00m \u001b[38;5;167;01mValueError\u001b[39;00m(\u001b[38;5;124m\"\u001b[39m\u001b[38;5;124mEl apellido debe ser una cadena no vacía.\u001b[39m\u001b[38;5;124m\"\u001b[39m)\n\u001b[0;32m     41\u001b[0m \u001b[38;5;28;01mif\u001b[39;00m carrera \u001b[38;5;129;01mnot\u001b[39;00m \u001b[38;5;129;01min\u001b[39;00m CARRERAS_DISPONIBLES:\n\u001b[1;32m---> 42\u001b[0m             \u001b[38;5;28;01mraise\u001b[39;00m CarreraInvalidaError(\u001b[38;5;124mf\u001b[39m\u001b[38;5;124m\"\u001b[39m\u001b[38;5;124mCarrera inválida: \u001b[39m\u001b[38;5;132;01m{\u001b[39;00mcarrera\u001b[38;5;132;01m}\u001b[39;00m\u001b[38;5;124m\"\u001b[39m)\n\u001b[0;32m     44\u001b[0m \u001b[38;5;28mself\u001b[39m\u001b[38;5;241m.\u001b[39mnombre \u001b[38;5;241m=\u001b[39m nombre\u001b[38;5;241m.\u001b[39mstrip()\u001b[38;5;241m.\u001b[39mtitle()\n\u001b[0;32m     45\u001b[0m \u001b[38;5;28mself\u001b[39m\u001b[38;5;241m.\u001b[39mapellido \u001b[38;5;241m=\u001b[39m apellido\u001b[38;5;241m.\u001b[39mstrip()\u001b[38;5;241m.\u001b[39mtitle()\n",
      "\u001b[1;31mCarreraInvalidaError\u001b[0m: Carrera inválida: Ingeniería Biomédica"
     ]
    }
   ],
   "source": [
    "coordinadora = Coordinadora(\"Ella\", \"Escandon\", \"Ingeniería Biomédica\")"
   ]
  },
  {
   "cell_type": "code",
   "execution_count": 14,
   "id": "1d6b37a5",
   "metadata": {},
   "outputs": [
    {
     "ename": "CarreraInvalidaError",
     "evalue": "Carrera inválida: Ingeniería Biomédica",
     "output_type": "error",
     "traceback": [
      "\u001b[1;31m---------------------------------------------------------------------------\u001b[0m",
      "\u001b[1;31mCarreraInvalidaError\u001b[0m                      Traceback (most recent call last)",
      "Cell \u001b[1;32mIn[14], line 1\u001b[0m\n\u001b[1;32m----> 1\u001b[0m secretaria \u001b[38;5;241m=\u001b[39m \u001b[43mSecretaria\u001b[49m\u001b[43m(\u001b[49m\u001b[38;5;124;43m\"\u001b[39;49m\u001b[38;5;124;43mJessi\u001b[39;49m\u001b[38;5;124;43m\"\u001b[39;49m\u001b[43m,\u001b[49m\u001b[43m \u001b[49m\u001b[38;5;124;43m\"\u001b[39;49m\u001b[38;5;124;43mArocena\u001b[39;49m\u001b[38;5;124;43m\"\u001b[39;49m\u001b[43m,\u001b[49m\u001b[43m \u001b[49m\u001b[38;5;124;43m\"\u001b[39;49m\u001b[38;5;124;43mIngeniería Biomédica\u001b[39;49m\u001b[38;5;124;43m\"\u001b[39;49m\u001b[43m)\u001b[49m\n",
      "File \u001b[1;32mc:\\Users\\test1\\OneDrive\\Escritorio\\PDA\\TP V2\\SdM_1.py:785\u001b[0m, in \u001b[0;36mSecretaria.__init__\u001b[1;34m(self, nombre, apellido, carrera)\u001b[0m\n\u001b[0;32m    784\u001b[0m \u001b[38;5;28;01mdef\u001b[39;00m \u001b[38;5;21m__init__\u001b[39m(\u001b[38;5;28mself\u001b[39m, nombre, apellido,carrera):\n\u001b[1;32m--> 785\u001b[0m     \u001b[38;5;28;43msuper\u001b[39;49m\u001b[43m(\u001b[49m\u001b[43m)\u001b[49m\u001b[38;5;241;43m.\u001b[39;49m\u001b[38;5;21;43m__init__\u001b[39;49m\u001b[43m(\u001b[49m\u001b[43mnombre\u001b[49m\u001b[43m,\u001b[49m\u001b[43m \u001b[49m\u001b[43mapellido\u001b[49m\u001b[43m,\u001b[49m\u001b[43mcarrera\u001b[49m\u001b[43m)\u001b[49m\n\u001b[0;32m    786\u001b[0m     \u001b[38;5;28;01mif\u001b[39;00m carrera \u001b[38;5;129;01mnot\u001b[39;00m \u001b[38;5;129;01min\u001b[39;00m CARRERAS_DISPONIBLES:\n\u001b[0;32m    787\u001b[0m         \u001b[38;5;28;01mraise\u001b[39;00m CarreraInvalidaError(\u001b[38;5;124mf\u001b[39m\u001b[38;5;124m\"\u001b[39m\u001b[38;5;124mCarrera inválida: \u001b[39m\u001b[38;5;132;01m{\u001b[39;00mcarrera\u001b[38;5;132;01m}\u001b[39;00m\u001b[38;5;124m\"\u001b[39m)\n",
      "File \u001b[1;32mc:\\Users\\test1\\OneDrive\\Escritorio\\PDA\\TP V2\\SdM_1.py:42\u001b[0m, in \u001b[0;36mPersona.__init__\u001b[1;34m(self, nombre, apellido, carrera)\u001b[0m\n\u001b[0;32m     40\u001b[0m             \u001b[38;5;28;01mraise\u001b[39;00m \u001b[38;5;167;01mValueError\u001b[39;00m(\u001b[38;5;124m\"\u001b[39m\u001b[38;5;124mEl apellido debe ser una cadena no vacía.\u001b[39m\u001b[38;5;124m\"\u001b[39m)\n\u001b[0;32m     41\u001b[0m \u001b[38;5;28;01mif\u001b[39;00m carrera \u001b[38;5;129;01mnot\u001b[39;00m \u001b[38;5;129;01min\u001b[39;00m CARRERAS_DISPONIBLES:\n\u001b[1;32m---> 42\u001b[0m             \u001b[38;5;28;01mraise\u001b[39;00m CarreraInvalidaError(\u001b[38;5;124mf\u001b[39m\u001b[38;5;124m\"\u001b[39m\u001b[38;5;124mCarrera inválida: \u001b[39m\u001b[38;5;132;01m{\u001b[39;00mcarrera\u001b[38;5;132;01m}\u001b[39;00m\u001b[38;5;124m\"\u001b[39m)\n\u001b[0;32m     44\u001b[0m \u001b[38;5;28mself\u001b[39m\u001b[38;5;241m.\u001b[39mnombre \u001b[38;5;241m=\u001b[39m nombre\u001b[38;5;241m.\u001b[39mstrip()\u001b[38;5;241m.\u001b[39mtitle()\n\u001b[0;32m     45\u001b[0m \u001b[38;5;28mself\u001b[39m\u001b[38;5;241m.\u001b[39mapellido \u001b[38;5;241m=\u001b[39m apellido\u001b[38;5;241m.\u001b[39mstrip()\u001b[38;5;241m.\u001b[39mtitle()\n",
      "\u001b[1;31mCarreraInvalidaError\u001b[0m: Carrera inválida: Ingeniería Biomédica"
     ]
    }
   ],
   "source": [
    "secretaria = Secretaria(\"Jessi\", \"Arocena\", \"Ingeniería Biomédica\")"
   ]
  },
  {
   "cell_type": "markdown",
   "id": "4179a846",
   "metadata": {},
   "source": [
    "2. Creando coordinadora y secretaria de la carrera IBIO"
   ]
  },
  {
   "cell_type": "code",
   "execution_count": 15,
   "id": "ee024bd0",
   "metadata": {},
   "outputs": [],
   "source": [
    "coordinadora = Coordinadora(\"Ella\", \"Escandon\", \"IBIO\")"
   ]
  },
  {
   "cell_type": "code",
   "execution_count": 16,
   "id": "6f51b89d",
   "metadata": {},
   "outputs": [],
   "source": [
    "secretaria = Secretaria(\"Jessi\", \"Arocena\", \"IBIO\")"
   ]
  },
  {
   "cell_type": "markdown",
   "id": "a4200ba9",
   "metadata": {},
   "source": [
    "3. Creando coordinadora de la carrera IMEC"
   ]
  },
  {
   "cell_type": "code",
   "execution_count": 18,
   "id": "1647a164",
   "metadata": {},
   "outputs": [],
   "source": [
    "coordinadora_imec = Coordinadora(\"AAa\", \"Bbb\", \"IMEC\")"
   ]
  },
  {
   "cell_type": "markdown",
   "id": "5c9b59ac",
   "metadata": {},
   "source": [
    "4. Creación de plan de estudios con coordinadora válida (IBIO)"
   ]
  },
  {
   "cell_type": "code",
   "execution_count": 19,
   "id": "4ab07845",
   "metadata": {},
   "outputs": [],
   "source": [
    "plan=PlanDeEstudio(\"IBIO 2021\",\"archivo UCS.json\", \"IBIO\", coordinadora)"
   ]
  },
  {
   "cell_type": "markdown",
   "id": "5d45445a",
   "metadata": {},
   "source": [
    "5. Creación de plan de estudios con coordinadora inválida"
   ]
  },
  {
   "cell_type": "code",
   "execution_count": 20,
   "id": "7ed3d917",
   "metadata": {},
   "outputs": [
    {
     "ename": "PermissionError",
     "evalue": "Ella Escandon no tiene permisos para crear un plan para IMEC",
     "output_type": "error",
     "traceback": [
      "\u001b[1;31m---------------------------------------------------------------------------\u001b[0m",
      "\u001b[1;31mPermissionError\u001b[0m                           Traceback (most recent call last)",
      "Cell \u001b[1;32mIn[20], line 1\u001b[0m\n\u001b[1;32m----> 1\u001b[0m \u001b[43mcoordinadora\u001b[49m\u001b[38;5;241;43m.\u001b[39;49m\u001b[43mcrear_plan\u001b[49m\u001b[43m(\u001b[49m\u001b[38;5;124;43m\"\u001b[39;49m\u001b[38;5;124;43mPlan IMEC 2021\u001b[39;49m\u001b[38;5;124;43m\"\u001b[39;49m\u001b[43m,\u001b[49m\u001b[38;5;124;43m\"\u001b[39;49m\u001b[38;5;124;43marchivo UCS.json\u001b[39;49m\u001b[38;5;124;43m\"\u001b[39;49m\u001b[43m,\u001b[49m\u001b[38;5;124;43m\"\u001b[39;49m\u001b[38;5;124;43mIMEC\u001b[39;49m\u001b[38;5;124;43m\"\u001b[39;49m\u001b[43m,\u001b[49m\u001b[43m \u001b[49m\u001b[43mcoordinadora\u001b[49m\u001b[43m)\u001b[49m\n",
      "File \u001b[1;32mc:\\Users\\test1\\OneDrive\\Escritorio\\PDA\\TP V2\\SdM_1.py:609\u001b[0m, in \u001b[0;36mCoordinadora.crear_plan\u001b[1;34m(self, nombre_plan, ruta_json, carrera, creador)\u001b[0m\n\u001b[0;32m    598\u001b[0m \u001b[38;5;28;01mdef\u001b[39;00m \u001b[38;5;21mcrear_plan\u001b[39m(\u001b[38;5;28mself\u001b[39m, nombre_plan, ruta_json,carrera,creador):\n\u001b[0;32m    599\u001b[0m \u001b[38;5;250m    \u001b[39m\u001b[38;5;124;03m\"\"\"\u001b[39;00m\n\u001b[0;32m    600\u001b[0m \u001b[38;5;124;03m    Crea un nuevo plan de estudio con el nombre y la ruta especificados.\u001b[39;00m\n\u001b[0;32m    601\u001b[0m \n\u001b[1;32m   (...)\u001b[0m\n\u001b[0;32m    607\u001b[0m \u001b[38;5;124;03m        PlanDeEstudio: Un objeto PlanDeEstudio creado.\u001b[39;00m\n\u001b[0;32m    608\u001b[0m \u001b[38;5;124;03m    \"\"\"\u001b[39;00m\n\u001b[1;32m--> 609\u001b[0m     plan \u001b[38;5;241m=\u001b[39m \u001b[43mPlanDeEstudio\u001b[49m\u001b[43m(\u001b[49m\u001b[43mnombre_plan\u001b[49m\u001b[43m,\u001b[49m\u001b[43m \u001b[49m\u001b[43mruta_json\u001b[49m\u001b[43m,\u001b[49m\u001b[43mcarrera\u001b[49m\u001b[43m,\u001b[49m\u001b[43mcreador\u001b[49m\u001b[43m)\u001b[49m\n\u001b[0;32m    610\u001b[0m     \u001b[38;5;28mprint\u001b[39m(\u001b[38;5;124mf\u001b[39m\u001b[38;5;124m\"\u001b[39m\u001b[38;5;132;01m{\u001b[39;00m\u001b[38;5;28mself\u001b[39m\u001b[38;5;241m.\u001b[39mnombre\u001b[38;5;132;01m}\u001b[39;00m\u001b[38;5;124m ha creado el plan \u001b[39m\u001b[38;5;124m'\u001b[39m\u001b[38;5;132;01m{\u001b[39;00mnombre_plan\u001b[38;5;132;01m}\u001b[39;00m\u001b[38;5;124m'\u001b[39m\u001b[38;5;124m.\u001b[39m\u001b[38;5;124m\"\u001b[39m)\n\u001b[0;32m    611\u001b[0m     \u001b[38;5;28;01mreturn\u001b[39;00m plan\n",
      "File \u001b[1;32mc:\\Users\\test1\\OneDrive\\Escritorio\\PDA\\TP V2\\SdM_1.py:96\u001b[0m, in \u001b[0;36mPlanDeEstudio.__init__\u001b[1;34m(self, nombre_plan, ruta_json, carrera, creador)\u001b[0m\n\u001b[0;32m     94\u001b[0m     \u001b[38;5;28;01mraise\u001b[39;00m CarreraInvalidaError(\u001b[38;5;124mf\u001b[39m\u001b[38;5;124m\"\u001b[39m\u001b[38;5;124mCarrera inválida: \u001b[39m\u001b[38;5;132;01m{\u001b[39;00mcarrera\u001b[38;5;132;01m}\u001b[39;00m\u001b[38;5;124m\"\u001b[39m)\n\u001b[0;32m     95\u001b[0m \u001b[38;5;28;01mif\u001b[39;00m creador\u001b[38;5;241m.\u001b[39mcarrera \u001b[38;5;241m!=\u001b[39m carrera:\n\u001b[1;32m---> 96\u001b[0m     \u001b[38;5;28;01mraise\u001b[39;00m \u001b[38;5;167;01mPermissionError\u001b[39;00m(\u001b[38;5;124mf\u001b[39m\u001b[38;5;124m\"\u001b[39m\u001b[38;5;132;01m{\u001b[39;00mcreador\u001b[38;5;241m.\u001b[39mnombre_completo()\u001b[38;5;132;01m}\u001b[39;00m\u001b[38;5;124m no tiene permisos para crear un plan para \u001b[39m\u001b[38;5;132;01m{\u001b[39;00mcarrera\u001b[38;5;132;01m}\u001b[39;00m\u001b[38;5;124m\"\u001b[39m)\n\u001b[0;32m     97\u001b[0m \u001b[38;5;28mself\u001b[39m\u001b[38;5;241m.\u001b[39mcarrera \u001b[38;5;241m=\u001b[39m carrera\n\u001b[0;32m     98\u001b[0m \u001b[38;5;28mself\u001b[39m\u001b[38;5;241m.\u001b[39mmaterias \u001b[38;5;241m=\u001b[39m []\n",
      "\u001b[1;31mPermissionError\u001b[0m: Ella Escandon no tiene permisos para crear un plan para IMEC"
     ]
    }
   ],
   "source": [
    "coordinadora.crear_plan(\"Plan IMEC 2021\",\"archivo UCS.json\",\"IMEC\", coordinadora)"
   ]
  },
  {
   "cell_type": "markdown",
   "id": "49cce6ae",
   "metadata": {},
   "source": [
    "6. Creación de plan de estudios con coordinadora valida (IMEC)"
   ]
  },
  {
   "cell_type": "code",
   "execution_count": 21,
   "id": "b92eaa68",
   "metadata": {},
   "outputs": [],
   "source": [
    "plan_imec = PlanDeEstudio(\"IMEC 2021\",\"archivo UCS.json\", \"IMEC\", coordinadora_imec)"
   ]
  },
  {
   "cell_type": "markdown",
   "id": "8f3eb3d9",
   "metadata": {},
   "source": [
    "7. Creacion de un curso con coordinadora válida (IBIO)"
   ]
  },
  {
   "cell_type": "code",
   "execution_count": 22,
   "id": "830760b2",
   "metadata": {},
   "outputs": [
    {
     "name": "stdout",
     "output_type": "stream",
     "text": [
      "✔ Curso creado para Álgebra, Análisis y Geometría Analítica (UC1S1) - 2021, Semestre 1\n"
     ]
    }
   ],
   "source": [
    "curso= Curso(\"UC1S1\",2021,1,\"IBIO\",plan, coordinadora) "
   ]
  },
  {
   "cell_type": "markdown",
   "id": "b541dc65",
   "metadata": {},
   "source": [
    "8. Creacion de un curso con coordinadora inválida "
   ]
  },
  {
   "cell_type": "code",
   "execution_count": 23,
   "id": "f364889f",
   "metadata": {},
   "outputs": [
    {
     "ename": "PermissionError",
     "evalue": "Ella Escandon no tiene permisos para crear cursos para IMEC 2021",
     "output_type": "error",
     "traceback": [
      "\u001b[1;31m---------------------------------------------------------------------------\u001b[0m",
      "\u001b[1;31mPermissionError\u001b[0m                           Traceback (most recent call last)",
      "Cell \u001b[1;32mIn[23], line 1\u001b[0m\n\u001b[1;32m----> 1\u001b[0m curso_imec \u001b[38;5;241m=\u001b[39m \u001b[43mCurso\u001b[49m\u001b[43m(\u001b[49m\u001b[38;5;124;43m\"\u001b[39;49m\u001b[38;5;124;43mUC1S1\u001b[39;49m\u001b[38;5;124;43m\"\u001b[39;49m\u001b[43m,\u001b[49m\u001b[38;5;241;43m2021\u001b[39;49m\u001b[43m,\u001b[49m\u001b[38;5;241;43m1\u001b[39;49m\u001b[43m,\u001b[49m\u001b[38;5;124;43m\"\u001b[39;49m\u001b[38;5;124;43mIMEC\u001b[39;49m\u001b[38;5;124;43m\"\u001b[39;49m\u001b[43m,\u001b[49m\u001b[43mplan_imec\u001b[49m\u001b[43m,\u001b[49m\u001b[43m \u001b[49m\u001b[43mcoordinadora\u001b[49m\u001b[43m)\u001b[49m\n",
      "File \u001b[1;32mc:\\Users\\test1\\OneDrive\\Escritorio\\PDA\\TP V2\\SdM_1.py:191\u001b[0m, in \u001b[0;36mCurso.__init__\u001b[1;34m(self, codigo_uc, año, semestre, carrera, plan, creador)\u001b[0m\n\u001b[0;32m    176\u001b[0m \u001b[38;5;250m\u001b[39m\u001b[38;5;124;03m\"\"\"\u001b[39;00m\n\u001b[0;32m    177\u001b[0m \u001b[38;5;124;03mInicializa una nueva instancia de la clase Curso.\u001b[39;00m\n\u001b[0;32m    178\u001b[0m \n\u001b[1;32m   (...)\u001b[0m\n\u001b[0;32m    188\u001b[0m \u001b[38;5;124;03m                o el código no coincide con el semestre declarado.\u001b[39;00m\n\u001b[0;32m    189\u001b[0m \u001b[38;5;124;03m\"\"\"\u001b[39;00m\n\u001b[0;32m    190\u001b[0m \u001b[38;5;28;01mif\u001b[39;00m creador\u001b[38;5;241m.\u001b[39mcarrera \u001b[38;5;241m!=\u001b[39m plan\u001b[38;5;241m.\u001b[39mcarrera:\n\u001b[1;32m--> 191\u001b[0m     \u001b[38;5;28;01mraise\u001b[39;00m \u001b[38;5;167;01mPermissionError\u001b[39;00m(\u001b[38;5;124mf\u001b[39m\u001b[38;5;124m\"\u001b[39m\u001b[38;5;132;01m{\u001b[39;00mcreador\u001b[38;5;241m.\u001b[39mnombre_completo()\u001b[38;5;132;01m}\u001b[39;00m\u001b[38;5;124m no tiene permisos para crear cursos para \u001b[39m\u001b[38;5;132;01m{\u001b[39;00mplan\u001b[38;5;241m.\u001b[39mnombre_plan\u001b[38;5;132;01m}\u001b[39;00m\u001b[38;5;124m\"\u001b[39m)\n\u001b[0;32m    193\u001b[0m \u001b[38;5;28;01mtry\u001b[39;00m:\n\u001b[0;32m    194\u001b[0m     \u001b[38;5;28;01mif\u001b[39;00m \u001b[38;5;129;01mnot\u001b[39;00m \u001b[38;5;28misinstance\u001b[39m(codigo_uc, \u001b[38;5;28mstr\u001b[39m):\n",
      "\u001b[1;31mPermissionError\u001b[0m: Ella Escandon no tiene permisos para crear cursos para IMEC 2021"
     ]
    }
   ],
   "source": [
    "curso_imec = Curso(\"UC1S1\",2021,1,\"IMEC\",plan_imec, coordinadora)"
   ]
  },
  {
   "cell_type": "markdown",
   "id": "1dbb84a9",
   "metadata": {},
   "source": [
    "9. Creacion de un curso con coordinadora válida (IMEC)"
   ]
  },
  {
   "cell_type": "code",
   "execution_count": 24,
   "id": "d8737f38",
   "metadata": {},
   "outputs": [
    {
     "name": "stdout",
     "output_type": "stream",
     "text": [
      "✔ Curso creado para Álgebra, Análisis y Geometría Analítica (UC1S1) - 2021, Semestre 1\n"
     ]
    }
   ],
   "source": [
    "curso_imec = Curso(\"UC1S1\",2021,1,\"IMEC\",plan_imec, coordinadora_imec)"
   ]
  },
  {
   "cell_type": "markdown",
   "id": "6b0b80ea",
   "metadata": {},
   "source": [
    "10. Crear un examen con coordinadora válida (IBIO)"
   ]
  },
  {
   "cell_type": "code",
   "execution_count": 25,
   "id": "8aeec5b1",
   "metadata": {},
   "outputs": [
    {
     "name": "stdout",
     "output_type": "stream",
     "text": [
      "Examen para UC UC3S1 creado en el archivo examen_IBIO_UC3S1_27-4.csv con éxito.\n"
     ]
    }
   ],
   "source": [
    "examen_ibio = InstanciaDeExamen(\"UC3S1\",\"27-4\",\"13:15\", \"IBIO\", plan, coordinadora)"
   ]
  },
  {
   "cell_type": "markdown",
   "id": "2ef0988a",
   "metadata": {},
   "source": [
    "11. Crear un exámen con coordinadora inválida "
   ]
  },
  {
   "cell_type": "code",
   "execution_count": 26,
   "id": "1c778750",
   "metadata": {},
   "outputs": [
    {
     "ename": "PermissionError",
     "evalue": "Ella Escandon no tiene permisos para crear instancia de examen para IMEC 2021",
     "output_type": "error",
     "traceback": [
      "\u001b[1;31m---------------------------------------------------------------------------\u001b[0m",
      "\u001b[1;31mPermissionError\u001b[0m                           Traceback (most recent call last)",
      "Cell \u001b[1;32mIn[26], line 1\u001b[0m\n\u001b[1;32m----> 1\u001b[0m examen_imec \u001b[38;5;241m=\u001b[39m \u001b[43mInstanciaDeExamen\u001b[49m\u001b[43m(\u001b[49m\u001b[38;5;124;43m\"\u001b[39;49m\u001b[38;5;124;43mUC3S1\u001b[39;49m\u001b[38;5;124;43m\"\u001b[39;49m\u001b[43m,\u001b[49m\u001b[38;5;124;43m\"\u001b[39;49m\u001b[38;5;124;43m27-4\u001b[39;49m\u001b[38;5;124;43m\"\u001b[39;49m\u001b[43m,\u001b[49m\u001b[38;5;124;43m\"\u001b[39;49m\u001b[38;5;124;43m13:15\u001b[39;49m\u001b[38;5;124;43m\"\u001b[39;49m\u001b[43m,\u001b[49m\u001b[43m \u001b[49m\u001b[38;5;124;43m\"\u001b[39;49m\u001b[38;5;124;43mIMEC\u001b[39;49m\u001b[38;5;124;43m\"\u001b[39;49m\u001b[43m,\u001b[49m\u001b[43m \u001b[49m\u001b[43mplan_imec\u001b[49m\u001b[43m,\u001b[49m\u001b[43m \u001b[49m\u001b[43mcoordinadora\u001b[49m\u001b[43m)\u001b[49m\n",
      "File \u001b[1;32mc:\\Users\\test1\\OneDrive\\Escritorio\\PDA\\TP V2\\SdM_1.py:333\u001b[0m, in \u001b[0;36mInstanciaDeExamen.__init__\u001b[1;34m(self, codigo_uc, fecha, hora, carrera, plan, creador)\u001b[0m\n\u001b[0;32m    324\u001b[0m \u001b[38;5;250m\u001b[39m\u001b[38;5;124;03m\"\"\"\u001b[39;00m\n\u001b[0;32m    325\u001b[0m \u001b[38;5;124;03mInicializa una nueva instancia del examen con su código UC, fecha y hora.\u001b[39;00m\n\u001b[0;32m    326\u001b[0m \n\u001b[1;32m   (...)\u001b[0m\n\u001b[0;32m    330\u001b[0m \u001b[38;5;124;03m    hora (str): Hora del examen (formato 'HH:MM').\u001b[39;00m\n\u001b[0;32m    331\u001b[0m \u001b[38;5;124;03m\"\"\"\u001b[39;00m\n\u001b[0;32m    332\u001b[0m \u001b[38;5;28;01mif\u001b[39;00m creador\u001b[38;5;241m.\u001b[39mcarrera \u001b[38;5;241m!=\u001b[39m plan\u001b[38;5;241m.\u001b[39mcarrera:\n\u001b[1;32m--> 333\u001b[0m     \u001b[38;5;28;01mraise\u001b[39;00m \u001b[38;5;167;01mPermissionError\u001b[39;00m(\u001b[38;5;124mf\u001b[39m\u001b[38;5;124m\"\u001b[39m\u001b[38;5;132;01m{\u001b[39;00mcreador\u001b[38;5;241m.\u001b[39mnombre_completo()\u001b[38;5;132;01m}\u001b[39;00m\u001b[38;5;124m no tiene permisos para crear instancia de examen para \u001b[39m\u001b[38;5;132;01m{\u001b[39;00mplan\u001b[38;5;241m.\u001b[39mnombre_plan\u001b[38;5;132;01m}\u001b[39;00m\u001b[38;5;124m\"\u001b[39m)\n\u001b[0;32m    334\u001b[0m \u001b[38;5;28mself\u001b[39m\u001b[38;5;241m.\u001b[39mcodigo_uc \u001b[38;5;241m=\u001b[39m codigo_uc\n\u001b[0;32m    335\u001b[0m \u001b[38;5;28mself\u001b[39m\u001b[38;5;241m.\u001b[39mfecha \u001b[38;5;241m=\u001b[39m fecha\n",
      "\u001b[1;31mPermissionError\u001b[0m: Ella Escandon no tiene permisos para crear instancia de examen para IMEC 2021"
     ]
    }
   ],
   "source": [
    "examen_imec = InstanciaDeExamen(\"UC3S1\",\"27-4\",\"13:15\", \"IMEC\", plan_imec, coordinadora)"
   ]
  },
  {
   "cell_type": "markdown",
   "id": "77b2dc47",
   "metadata": {},
   "source": [
    "12. Crear un examen con coordinadora válida (IMEC)"
   ]
  },
  {
   "cell_type": "code",
   "execution_count": 27,
   "id": "1e970be6",
   "metadata": {},
   "outputs": [
    {
     "name": "stdout",
     "output_type": "stream",
     "text": [
      "Examen para UC UC3S1 creado en el archivo examen_IMEC_UC3S1_27-4.csv con éxito.\n"
     ]
    }
   ],
   "source": [
    "examen_imec = InstanciaDeExamen(\"UC3S1\",\"27-4\",\"13:15\", \"IMEC\", plan_imec, coordinadora_imec)"
   ]
  }
 ],
 "metadata": {
  "kernelspec": {
   "display_name": "Python 3",
   "language": "python",
   "name": "python3"
  },
  "language_info": {
   "codemirror_mode": {
    "name": "ipython",
    "version": 3
   },
   "file_extension": ".py",
   "mimetype": "text/x-python",
   "name": "python",
   "nbconvert_exporter": "python",
   "pygments_lexer": "ipython3",
   "version": "3.11.5"
  }
 },
 "nbformat": 4,
 "nbformat_minor": 5
}
