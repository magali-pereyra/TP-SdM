{
 "cells": [
  {
   "cell_type": "markdown",
   "id": "2dfc6372",
   "metadata": {},
   "source": [
    "#  Pruebas de la clase `Persona`"
   ]
  },
  {
   "cell_type": "code",
   "execution_count": 2,
   "id": "83ddfb0c",
   "metadata": {},
   "outputs": [],
   "source": [
    "from SdM import Persona"
   ]
  },
  {
   "cell_type": "markdown",
   "id": "12cc21f2",
   "metadata": {},
   "source": [
    "## 1. Prueba con datos válidos"
   ]
  },
  {
   "cell_type": "code",
   "execution_count": 3,
   "id": "25ce8110",
   "metadata": {},
   "outputs": [
    {
     "data": {
      "text/plain": [
       "'Julia Iturriaga'"
      ]
     },
     "execution_count": 3,
     "metadata": {},
     "output_type": "execute_result"
    }
   ],
   "source": [
    "#Creamos una instancia de `Persona` con datos válidos y verificamos el método `nombre_completo`.\n",
    "persona1=Persona(\"Julia\",\"Iturriaga\")\n",
    "persona1.nombre_completo()"
   ]
  },
  {
   "cell_type": "markdown",
   "id": "95dd6b33",
   "metadata": {},
   "source": [
    "##  2. Prueba de limpieza y formato"
   ]
  },
  {
   "cell_type": "code",
   "execution_count": 4,
   "id": "ff4e6998",
   "metadata": {},
   "outputs": [
    {
     "data": {
      "text/plain": [
       "'Magali Pereyra'"
      ]
     },
     "execution_count": 4,
     "metadata": {},
     "output_type": "execute_result"
    }
   ],
   "source": [
    "#Elimina espacios extra y pone las primeras letras en mayúscula.\n",
    "persona2=Persona(\" MagaLi\", \" PEREYRA\")\n",
    "persona2.nombre_completo()"
   ]
  },
  {
   "cell_type": "code",
   "execution_count": 5,
   "id": "8275f8a8",
   "metadata": {},
   "outputs": [
    {
     "data": {
      "text/plain": [
       "'Magali Pereyra'"
      ]
     },
     "execution_count": 5,
     "metadata": {},
     "output_type": "execute_result"
    }
   ],
   "source": [
    "persona3=Persona(\"magali\",\"pereyra\")\n",
    "persona3.nombre_completo()"
   ]
  },
  {
   "cell_type": "markdown",
   "id": "08fe8741",
   "metadata": {},
   "source": [
    "## 3. Prueba con nombre vacío"
   ]
  },
  {
   "cell_type": "code",
   "execution_count": 6,
   "id": "45f9689d",
   "metadata": {},
   "outputs": [
    {
     "ename": "ValueError",
     "evalue": "El nombre debe ser una cadena no vacía.",
     "output_type": "error",
     "traceback": [
      "\u001b[31m---------------------------------------------------------------------------\u001b[39m",
      "\u001b[31mValueError\u001b[39m                                Traceback (most recent call last)",
      "\u001b[36mCell\u001b[39m\u001b[36m \u001b[39m\u001b[32mIn[6]\u001b[39m\u001b[32m, line 1\u001b[39m\n\u001b[32m----> \u001b[39m\u001b[32m1\u001b[39m persona4=\u001b[43mPersona\u001b[49m\u001b[43m(\u001b[49m\u001b[33;43m\"\u001b[39;49m\u001b[33;43m\"\u001b[39;49m\u001b[43m,\u001b[49m\u001b[33;43m\"\u001b[39;49m\u001b[33;43mIturriaga\u001b[39;49m\u001b[33;43m\"\u001b[39;49m\u001b[43m)\u001b[49m\n",
      "\u001b[36mFile \u001b[39m\u001b[32mc:\\Users\\Usuario\\Desktop\\TP-SdM\\SdM.py:30\u001b[39m, in \u001b[36mPersona.__init__\u001b[39m\u001b[34m(self, nombre, apellido)\u001b[39m\n\u001b[32m     15\u001b[39m \u001b[38;5;250m\u001b[39m\u001b[33;03m\"\"\"\u001b[39;00m\n\u001b[32m     16\u001b[39m \u001b[33;03mInicializa una nueva instancia de la clase Persona.\u001b[39;00m\n\u001b[32m     17\u001b[39m \n\u001b[32m   (...)\u001b[39m\u001b[32m     26\u001b[39m \u001b[33;03m    Si el nombre o el apellido no son cadenas válidas no vacías.\u001b[39;00m\n\u001b[32m     27\u001b[39m \u001b[33;03m\"\"\"\u001b[39;00m\n\u001b[32m     29\u001b[39m \u001b[38;5;28;01mif\u001b[39;00m \u001b[38;5;129;01mnot\u001b[39;00m \u001b[38;5;28misinstance\u001b[39m(nombre, \u001b[38;5;28mstr\u001b[39m) \u001b[38;5;129;01mor\u001b[39;00m \u001b[38;5;129;01mnot\u001b[39;00m nombre.strip():\n\u001b[32m---> \u001b[39m\u001b[32m30\u001b[39m     \u001b[38;5;28;01mraise\u001b[39;00m \u001b[38;5;167;01mValueError\u001b[39;00m(\u001b[33m\"\u001b[39m\u001b[33mEl nombre debe ser una cadena no vacía.\u001b[39m\u001b[33m\"\u001b[39m)\n\u001b[32m     32\u001b[39m \u001b[38;5;28;01mif\u001b[39;00m \u001b[38;5;129;01mnot\u001b[39;00m \u001b[38;5;28misinstance\u001b[39m(apellido, \u001b[38;5;28mstr\u001b[39m) \u001b[38;5;129;01mor\u001b[39;00m \u001b[38;5;129;01mnot\u001b[39;00m apellido.strip():\n\u001b[32m     33\u001b[39m     \u001b[38;5;28;01mraise\u001b[39;00m \u001b[38;5;167;01mValueError\u001b[39;00m(\u001b[33m\"\u001b[39m\u001b[33mEl apellido debe ser una cadena no vacía.\u001b[39m\u001b[33m\"\u001b[39m)\n",
      "\u001b[31mValueError\u001b[39m: El nombre debe ser una cadena no vacía."
     ]
    }
   ],
   "source": [
    "persona4=Persona(\"\",\"Iturriaga\")"
   ]
  },
  {
   "cell_type": "markdown",
   "id": "a8f450fe",
   "metadata": {},
   "source": [
    "## 4. Prueba con apellido vacío"
   ]
  },
  {
   "cell_type": "code",
   "execution_count": 7,
   "id": "f9249ab2",
   "metadata": {},
   "outputs": [
    {
     "ename": "ValueError",
     "evalue": "El apellido debe ser una cadena no vacía.",
     "output_type": "error",
     "traceback": [
      "\u001b[31m---------------------------------------------------------------------------\u001b[39m",
      "\u001b[31mValueError\u001b[39m                                Traceback (most recent call last)",
      "\u001b[36mCell\u001b[39m\u001b[36m \u001b[39m\u001b[32mIn[7]\u001b[39m\u001b[32m, line 1\u001b[39m\n\u001b[32m----> \u001b[39m\u001b[32m1\u001b[39m persona5=\u001b[43mPersona\u001b[49m\u001b[43m(\u001b[49m\u001b[33;43m\"\u001b[39;49m\u001b[33;43mJulia\u001b[39;49m\u001b[33;43m\"\u001b[39;49m\u001b[43m,\u001b[49m\u001b[33;43m\"\u001b[39;49m\u001b[33;43m\"\u001b[39;49m\u001b[43m)\u001b[49m\n",
      "\u001b[36mFile \u001b[39m\u001b[32mc:\\Users\\Usuario\\Desktop\\TP-SdM\\SdM.py:33\u001b[39m, in \u001b[36mPersona.__init__\u001b[39m\u001b[34m(self, nombre, apellido)\u001b[39m\n\u001b[32m     30\u001b[39m     \u001b[38;5;28;01mraise\u001b[39;00m \u001b[38;5;167;01mValueError\u001b[39;00m(\u001b[33m\"\u001b[39m\u001b[33mEl nombre debe ser una cadena no vacía.\u001b[39m\u001b[33m\"\u001b[39m)\n\u001b[32m     32\u001b[39m \u001b[38;5;28;01mif\u001b[39;00m \u001b[38;5;129;01mnot\u001b[39;00m \u001b[38;5;28misinstance\u001b[39m(apellido, \u001b[38;5;28mstr\u001b[39m) \u001b[38;5;129;01mor\u001b[39;00m \u001b[38;5;129;01mnot\u001b[39;00m apellido.strip():\n\u001b[32m---> \u001b[39m\u001b[32m33\u001b[39m     \u001b[38;5;28;01mraise\u001b[39;00m \u001b[38;5;167;01mValueError\u001b[39;00m(\u001b[33m\"\u001b[39m\u001b[33mEl apellido debe ser una cadena no vacía.\u001b[39m\u001b[33m\"\u001b[39m)\n\u001b[32m     35\u001b[39m \u001b[38;5;28mself\u001b[39m.nombre = nombre.strip().title()\n\u001b[32m     36\u001b[39m \u001b[38;5;28mself\u001b[39m.apellido = apellido.strip().title()\n",
      "\u001b[31mValueError\u001b[39m: El apellido debe ser una cadena no vacía."
     ]
    }
   ],
   "source": [
    "persona5=Persona(\"Julia\",\"\")"
   ]
  },
  {
   "cell_type": "markdown",
   "id": "355cf97a",
   "metadata": {},
   "source": [
    "## 5. Prueba con nombre y apellido invalidos"
   ]
  },
  {
   "cell_type": "code",
   "execution_count": 8,
   "id": "44b3e327",
   "metadata": {},
   "outputs": [
    {
     "ename": "ValueError",
     "evalue": "El nombre debe ser una cadena no vacía.",
     "output_type": "error",
     "traceback": [
      "\u001b[31m---------------------------------------------------------------------------\u001b[39m",
      "\u001b[31mValueError\u001b[39m                                Traceback (most recent call last)",
      "\u001b[36mCell\u001b[39m\u001b[36m \u001b[39m\u001b[32mIn[8]\u001b[39m\u001b[32m, line 1\u001b[39m\n\u001b[32m----> \u001b[39m\u001b[32m1\u001b[39m persona6=\u001b[43mPersona\u001b[49m\u001b[43m(\u001b[49m\u001b[32;43m1\u001b[39;49m\u001b[43m,\u001b[49m\u001b[32;43m2\u001b[39;49m\u001b[43m)\u001b[49m\n",
      "\u001b[36mFile \u001b[39m\u001b[32mc:\\Users\\Usuario\\Desktop\\TP-SdM\\SdM.py:30\u001b[39m, in \u001b[36mPersona.__init__\u001b[39m\u001b[34m(self, nombre, apellido)\u001b[39m\n\u001b[32m     15\u001b[39m \u001b[38;5;250m\u001b[39m\u001b[33;03m\"\"\"\u001b[39;00m\n\u001b[32m     16\u001b[39m \u001b[33;03mInicializa una nueva instancia de la clase Persona.\u001b[39;00m\n\u001b[32m     17\u001b[39m \n\u001b[32m   (...)\u001b[39m\u001b[32m     26\u001b[39m \u001b[33;03m    Si el nombre o el apellido no son cadenas válidas no vacías.\u001b[39;00m\n\u001b[32m     27\u001b[39m \u001b[33;03m\"\"\"\u001b[39;00m\n\u001b[32m     29\u001b[39m \u001b[38;5;28;01mif\u001b[39;00m \u001b[38;5;129;01mnot\u001b[39;00m \u001b[38;5;28misinstance\u001b[39m(nombre, \u001b[38;5;28mstr\u001b[39m) \u001b[38;5;129;01mor\u001b[39;00m \u001b[38;5;129;01mnot\u001b[39;00m nombre.strip():\n\u001b[32m---> \u001b[39m\u001b[32m30\u001b[39m     \u001b[38;5;28;01mraise\u001b[39;00m \u001b[38;5;167;01mValueError\u001b[39;00m(\u001b[33m\"\u001b[39m\u001b[33mEl nombre debe ser una cadena no vacía.\u001b[39m\u001b[33m\"\u001b[39m)\n\u001b[32m     32\u001b[39m \u001b[38;5;28;01mif\u001b[39;00m \u001b[38;5;129;01mnot\u001b[39;00m \u001b[38;5;28misinstance\u001b[39m(apellido, \u001b[38;5;28mstr\u001b[39m) \u001b[38;5;129;01mor\u001b[39;00m \u001b[38;5;129;01mnot\u001b[39;00m apellido.strip():\n\u001b[32m     33\u001b[39m     \u001b[38;5;28;01mraise\u001b[39;00m \u001b[38;5;167;01mValueError\u001b[39;00m(\u001b[33m\"\u001b[39m\u001b[33mEl apellido debe ser una cadena no vacía.\u001b[39m\u001b[33m\"\u001b[39m)\n",
      "\u001b[31mValueError\u001b[39m: El nombre debe ser una cadena no vacía."
     ]
    }
   ],
   "source": [
    "persona6=Persona(1,2)"
   ]
  },
  {
   "cell_type": "markdown",
   "id": "e473ca35",
   "metadata": {},
   "source": [
    "# Pruebas de la clase Unidad Curricular"
   ]
  },
  {
   "cell_type": "code",
   "execution_count": 10,
   "id": "894c11ad",
   "metadata": {},
   "outputs": [],
   "source": [
    "from SdM import UnidadCurricular"
   ]
  },
  {
   "cell_type": "code",
   "execution_count": 11,
   "id": "467778d6",
   "metadata": {},
   "outputs": [
    {
     "name": "stdout",
     "output_type": "stream",
     "text": [
      "Algebra lineal y geometría analítica\n",
      "UC1S1\n",
      "4\n",
      "[]\n"
     ]
    }
   ],
   "source": [
    "uc=UnidadCurricular(\"UC1S1\",\"Algebra lineal y geometría analítica\",4,[])\n",
    "print(uc.nombre)\n",
    "print(uc.codigo)\n",
    "print(uc.creditos)\n",
    "print(uc.previas)"
   ]
  },
  {
   "cell_type": "markdown",
   "id": "6f1c7aa3",
   "metadata": {},
   "source": [
    "# Pruebas clase PlanDeEstudio"
   ]
  },
  {
   "cell_type": "code",
   "execution_count": 12,
   "id": "4a46d0dd",
   "metadata": {},
   "outputs": [],
   "source": [
    "from SdM import PlanDeEstudio\n",
    "import csv\n",
    "import json\n",
    "import re"
   ]
  },
  {
   "cell_type": "markdown",
   "id": "7d06166a",
   "metadata": {},
   "source": [
    "## 1.Cargar json"
   ]
  },
  {
   "cell_type": "code",
   "execution_count": 13,
   "id": "97bbbcbf",
   "metadata": {},
   "outputs": [],
   "source": [
    "plan=PlanDeEstudio(\"IBIO 2021\",\"archivo UCS.json\")"
   ]
  },
  {
   "cell_type": "markdown",
   "id": "ef6675ea",
   "metadata": {},
   "source": [
    "## 2.Prueba de visualizacion"
   ]
  },
  {
   "cell_type": "code",
   "execution_count": 14,
   "id": "b87e8b26",
   "metadata": {},
   "outputs": [
    {
     "name": "stdout",
     "output_type": "stream",
     "text": [
      "Plan de Estudio: IBIO 2021\n",
      "----------------------------------------\n",
      "UC1S1 - Álgebra, Análisis y Geometría Analítica (8 créditos)\n",
      "UC2S1 - Mecánica, Ondas y Calor (10 créditos)\n",
      "UC3S1 - Química General e Inorgánica (9 créditos)\n",
      "UC4S1 - Taller Inicial de Tecnologías (8 créditos)\n",
      "UC5S1 - Salud y Sociedad (8 créditos)\n",
      "UC1S2 - Números Complejos y Ecuaciones Diferenciales (8 créditos)\n",
      "  ↳ Previas: UC1S1\n",
      "UC2S2 - Electricidad y Magnetismo (10 créditos)\n",
      "  ↳ Previas: UC1S1, UC2S1\n",
      "UC3S2 - Química Orgánica y Biológica (9 créditos)\n",
      "  ↳ Previas: UC3S1\n",
      "UC4S2 - Anatomía y Fisiología Humanas (10 créditos)\n",
      "  ↳ Previas: UC2S1, UC5S1\n",
      "UC1S3 - Optica y Radiaciones (10 créditos)\n",
      "  ↳ Previas: UC1S1, UC2S1\n",
      "UC2S3 - Electronica Analogica (10 créditos)\n",
      "  ↳ Previas: UC4S1, UC1S2, UC2S2\n",
      "UC3S3 - Electrotecnia (9 créditos)\n",
      "  ↳ Previas: UC1S2, UC2S2\n",
      "UC4S3 - Instalaciones Hospitalaria (9 créditos)\n",
      "  ↳ Previas: UC3S1, UC4S2\n",
      "UC1S4 - Electrofisiología Clínica (10 créditos)\n",
      "  ↳ Previas: UC4S2, UC2S3\n",
      "UC2S4 - Electrónica Digital (10 créditos)\n",
      "  ↳ Previas: UC2S3\n",
      "UC3S4 - Mecánica Máquinas y Materiales (9 créditos)\n",
      "  ↳ Previas: UC1S1, UC2S1\n",
      "UC4S4 - Imágenes Médicas (10 créditos)\n",
      "  ↳ Previas: UC4S2, UC1S3\n",
      "UC1S5 - Seguridad Electrica y Radiante (10 créditos)\n",
      "  ↳ Previas: UC3S3, UC4S3, UC1S4, UC4S4\n",
      "UC2S5 - Normativa de Equipamiento Médico (8 créditos)\n",
      "  ↳ Previas: UC3S3, UC4S3, UC1S4, UC4S4\n",
      "UC3S5 - Taller de Mantenimiento de Equipos Medicos (10 créditos)\n",
      "  ↳ Previas: UC3S3, UC4S3, UC1S4, UC3S4, UC4S4\n",
      "UC4S5 - Matematica Avanzada 1 (9 créditos)\n",
      "  ↳ Previas: UC1S2, UC5S3\n",
      "UC1S6 - Instrumental de Laboratorio Clínico (9 créditos)\n",
      "  ↳ Previas: UC3S2, UC4S3\n",
      "UC2S6 - Informática Médica (8 créditos)\n",
      "  ↳ Previas: UC5S3, UC1S4, UC4S4\n",
      "UC3S6 - Instrumentación Médica Complementaria (10 créditos)\n",
      "  ↳ Previas: UC3S3, UC4S3, UC1S4, UC4S4\n",
      "UC4S6 - Matemática Avanzada II (9 créditos)\n",
      "  ↳ Previas: UC4S5\n",
      "UC5S6 - Física Avanzada (8 créditos)\n",
      "  ↳ Previas: UC1S3, UC3S3\n",
      "UC1S7 - Fisiopatologia (9 créditos)\n",
      "  ↳ Previas: UC1S6, UC3S6\n",
      "UC2S7 - Radiaciones No-ionizantes (7 créditos)\n",
      "  ↳ Previas: UC4S5, UC5S6\n",
      "UC3S7 - Programacion Digital Avanzada (7 créditos)\n",
      "  ↳ Previas: UC2S6, UC4S5\n",
      "UC4S7 - Legislacion para la Salud (5 créditos)\n",
      "  ↳ Previas: UC2S5, UC1S6, UC2S6, UC3S6\n",
      "UC5S7 - Economia para la Salud (5 créditos)\n",
      "  ↳ Previas: UC3S5, UC1S6, UC2S6, UC3S6\n",
      "UC1S8 - Bioestadística (7 créditos)\n",
      "  ↳ Previas: UC2S6\n",
      "UC2S8 - Señales y Sistemas (8 créditos)\n",
      "  ↳ Previas: UC1S4, UC2S4, UC4S6\n",
      "UC3S8 - Biomecánica y Biomateriales (7 créditos)\n",
      "  ↳ Previas: UC4S1, UC3S4\n",
      "UC4S8 - Metodología de la Investigación (5 créditos)\n",
      "  ↳ Previas: UC5S6, UC1S7\n",
      "UC5S8 - Higiene y Seguridad en Ambientes Hospitalarios (5 créditos)\n",
      "  ↳ Previas: UC1S7, UC4S7\n",
      "UC1S10 - Telesalud y Telemedicina (8 créditos)\n",
      "  ↳ Previas: UC2S9\n",
      "----------------------------------------\n"
     ]
    }
   ],
   "source": [
    "plan.ver()"
   ]
  },
  {
   "cell_type": "markdown",
   "id": "29eb4c3c",
   "metadata": {},
   "source": [
    "## Pruebas de clase Curso"
   ]
  },
  {
   "cell_type": "code",
   "execution_count": 15,
   "id": "9169623b",
   "metadata": {},
   "outputs": [],
   "source": [
    "from SdM import Curso"
   ]
  },
  {
   "cell_type": "markdown",
   "id": "b5a9a255",
   "metadata": {},
   "source": [
    "## 1.Generar un curso"
   ]
  },
  {
   "cell_type": "code",
   "execution_count": 16,
   "id": "3af95195",
   "metadata": {},
   "outputs": [
    {
     "name": "stdout",
     "output_type": "stream",
     "text": [
      "✔ Curso creado para Álgebra, Análisis y Geometría Analítica (UC1S1) - 2021, Semestre 1\n"
     ]
    }
   ],
   "source": [
    "curso= Curso(\"UC1S1\",2021,1,plan) # aca se va a crear un archivo csv "
   ]
  },
  {
   "cell_type": "markdown",
   "id": "422cb283",
   "metadata": {},
   "source": [
    "## 2. Codigo UC inexistente en el plan"
   ]
  },
  {
   "cell_type": "code",
   "execution_count": 17,
   "id": "41a53653",
   "metadata": {},
   "outputs": [
    {
     "name": "stdout",
     "output_type": "stream",
     "text": [
      "✖ Error al crear el curso: No se encontró la unidad curricular con código UC1S20 en el plan de estudios.\n"
     ]
    }
   ],
   "source": [
    "curso2= Curso(\"UC1S20\",2021,1,plan)"
   ]
  },
  {
   "cell_type": "markdown",
   "id": "297f8d37",
   "metadata": {},
   "source": [
    "## 3. Codigo año menor a 2000 o no es entero"
   ]
  },
  {
   "cell_type": "code",
   "execution_count": 18,
   "id": "d773323a",
   "metadata": {},
   "outputs": [
    {
     "name": "stdout",
     "output_type": "stream",
     "text": [
      "✖ Error al crear el curso: El año debe ser un número entero válido (mayor a 2000).\n",
      "✖ Error al crear el curso: El año debe ser un número entero válido (mayor a 2000).\n"
     ]
    }
   ],
   "source": [
    "curso3= Curso(\"UC2S1\",1999,1,plan)\n",
    "\n",
    "curso4= Curso(\"UC1S3\",\"hola pepe\",1,plan)"
   ]
  },
  {
   "cell_type": "markdown",
   "id": "0eb1fdaa",
   "metadata": {},
   "source": [
    "## 4. Semestre incorrecto"
   ]
  },
  {
   "cell_type": "code",
   "execution_count": 19,
   "id": "33780397",
   "metadata": {},
   "outputs": [
    {
     "name": "stdout",
     "output_type": "stream",
     "text": [
      "✖ Error al crear el curso: El semestre debe ser un entero entre 1 y 10.\n"
     ]
    }
   ],
   "source": [
    "curso5= Curso(\"UC3S1\",2021,12,plan)"
   ]
  },
  {
   "cell_type": "markdown",
   "id": "20653fa7",
   "metadata": {},
   "source": [
    "## 5. Código UC no es string"
   ]
  },
  {
   "cell_type": "code",
   "execution_count": 20,
   "id": "d83ab97c",
   "metadata": {},
   "outputs": [
    {
     "name": "stdout",
     "output_type": "stream",
     "text": [
      "✖ Error al crear el curso: El código de unidad curricular debe ser un string.\n"
     ]
    }
   ],
   "source": [
    "curso6= Curso(123,2021,12,plan)"
   ]
  },
  {
   "cell_type": "markdown",
   "id": "1091a8a4",
   "metadata": {},
   "source": [
    "## Pruebas clase InstanciaDeExamen"
   ]
  },
  {
   "cell_type": "code",
   "execution_count": 21,
   "id": "0deda7d8",
   "metadata": {},
   "outputs": [],
   "source": [
    "from SdM import InstanciaDeExamen"
   ]
  },
  {
   "cell_type": "markdown",
   "id": "2af199fb",
   "metadata": {},
   "source": [
    "## Generar una instancia de examen"
   ]
  },
  {
   "cell_type": "code",
   "execution_count": 22,
   "id": "9ef21ca6",
   "metadata": {},
   "outputs": [
    {
     "name": "stdout",
     "output_type": "stream",
     "text": [
      "Examen para UC UC1S1 creado en el archivo examen_UC1S1_25-4.csv con éxito.\n"
     ]
    }
   ],
   "source": [
    "examen=InstanciaDeExamen(\"UC1S1\",\"25-4\",\"15:00\") #Se crea un archivo csv"
   ]
  },
  {
   "cell_type": "markdown",
   "id": "bab4617e",
   "metadata": {},
   "source": [
    "## Pruebas Clase Estudiante"
   ]
  },
  {
   "cell_type": "code",
   "execution_count": 23,
   "id": "b27b31cd",
   "metadata": {},
   "outputs": [],
   "source": [
    "from SdM import Estudiante"
   ]
  },
  {
   "cell_type": "markdown",
   "id": "3884cb93",
   "metadata": {},
   "source": [
    "## Crear un estudiante"
   ]
  },
  {
   "cell_type": "code",
   "execution_count": 24,
   "id": "f54e6ab8",
   "metadata": {},
   "outputs": [
    {
     "name": "stdout",
     "output_type": "stream",
     "text": [
      "Julia\n",
      "Iturriaga\n",
      "54439461\n"
     ]
    }
   ],
   "source": [
    "estudiante= Estudiante(\"Julia\",\"Iturriaga\",54439461,2022,plan)\n",
    "print(estudiante.nombre)\n",
    "print(estudiante.apellido)\n",
    "print(estudiante.cedula)\n",
    "\n"
   ]
  },
  {
   "cell_type": "markdown",
   "id": "7750ad23",
   "metadata": {},
   "source": [
    "## Ver UCs aprobadas,cursando y regulares, en este caso no tiene ninguna"
   ]
  },
  {
   "cell_type": "code",
   "execution_count": 25,
   "id": "430b5918",
   "metadata": {},
   "outputs": [
    {
     "name": "stdout",
     "output_type": "stream",
     "text": [
      "No tenés UCs aprobadas.\n",
      "No estás regular en ninguna UC.\n",
      "No estás cursando ninguna UC.\n"
     ]
    }
   ],
   "source": [
    "estudiante.ver_ucs_aprobadas()\n",
    "estudiante.ver_ucs_regulares()\n",
    "estudiante.ver_ucs_cursando()"
   ]
  },
  {
   "cell_type": "markdown",
   "id": "761fbf9a",
   "metadata": {},
   "source": [
    "## Estudiante inscribiendose a examen"
   ]
  },
  {
   "cell_type": "code",
   "execution_count": 26,
   "id": "c6c73f94",
   "metadata": {},
   "outputs": [
    {
     "name": "stdout",
     "output_type": "stream",
     "text": [
      "No cumple con los requisitos para inscribirse a UC1S1\n"
     ]
    }
   ],
   "source": [
    "#En este caso el estudiante no se va a poder inscribir al examen porque no tiene ninguna Uc regular, \n",
    "# cuando estemos probando otras clases como secretaria \n",
    "# y coordinadora y podamos agregar ucs regulares al estudiante podemos inscribirlo\n",
    "#Ahora lo que voy a probar es que mensaje manda cuando intento inscribir al estudiante en el q no esta regular\n",
    "\n",
    "estudiante.inscribirse_a_examen(examen)"
   ]
  },
  {
   "cell_type": "markdown",
   "id": "01d37bb4",
   "metadata": {},
   "source": [
    "## Estudiante inscribiendose a curso"
   ]
  },
  {
   "cell_type": "code",
   "execution_count": 27,
   "id": "328ca537",
   "metadata": {},
   "outputs": [
    {
     "name": "stdout",
     "output_type": "stream",
     "text": [
      "✔ Estudiante Julia Iturriaga agregado al curso.\n",
      "UCs que estás cursando:\n",
      "- UC1S1: Álgebra, Análisis y Geometría Analítica\n"
     ]
    }
   ],
   "source": [
    "estudiante.inscribirse_a_curso(curso)\n",
    "# Ahora si usamos el metodo ver ucs cursando deberia aparecernos la uc\n",
    "estudiante.ver_ucs_cursando()"
   ]
  },
  {
   "cell_type": "markdown",
   "id": "54afe3c4",
   "metadata": {},
   "source": [
    "## Estudiante viendo plan de estudios"
   ]
  },
  {
   "cell_type": "code",
   "execution_count": 28,
   "id": "6752c165",
   "metadata": {},
   "outputs": [
    {
     "name": "stdout",
     "output_type": "stream",
     "text": [
      "Plan de Estudio: IBIO 2021\n",
      "----------------------------------------\n",
      "UC1S1 - Álgebra, Análisis y Geometría Analítica (8 créditos)\n",
      "UC2S1 - Mecánica, Ondas y Calor (10 créditos)\n",
      "UC3S1 - Química General e Inorgánica (9 créditos)\n",
      "UC4S1 - Taller Inicial de Tecnologías (8 créditos)\n",
      "UC5S1 - Salud y Sociedad (8 créditos)\n",
      "UC1S2 - Números Complejos y Ecuaciones Diferenciales (8 créditos)\n",
      "  ↳ Previas: UC1S1\n",
      "UC2S2 - Electricidad y Magnetismo (10 créditos)\n",
      "  ↳ Previas: UC1S1, UC2S1\n",
      "UC3S2 - Química Orgánica y Biológica (9 créditos)\n",
      "  ↳ Previas: UC3S1\n",
      "UC4S2 - Anatomía y Fisiología Humanas (10 créditos)\n",
      "  ↳ Previas: UC2S1, UC5S1\n",
      "UC1S3 - Optica y Radiaciones (10 créditos)\n",
      "  ↳ Previas: UC1S1, UC2S1\n",
      "UC2S3 - Electronica Analogica (10 créditos)\n",
      "  ↳ Previas: UC4S1, UC1S2, UC2S2\n",
      "UC3S3 - Electrotecnia (9 créditos)\n",
      "  ↳ Previas: UC1S2, UC2S2\n",
      "UC4S3 - Instalaciones Hospitalaria (9 créditos)\n",
      "  ↳ Previas: UC3S1, UC4S2\n",
      "UC1S4 - Electrofisiología Clínica (10 créditos)\n",
      "  ↳ Previas: UC4S2, UC2S3\n",
      "UC2S4 - Electrónica Digital (10 créditos)\n",
      "  ↳ Previas: UC2S3\n",
      "UC3S4 - Mecánica Máquinas y Materiales (9 créditos)\n",
      "  ↳ Previas: UC1S1, UC2S1\n",
      "UC4S4 - Imágenes Médicas (10 créditos)\n",
      "  ↳ Previas: UC4S2, UC1S3\n",
      "UC1S5 - Seguridad Electrica y Radiante (10 créditos)\n",
      "  ↳ Previas: UC3S3, UC4S3, UC1S4, UC4S4\n",
      "UC2S5 - Normativa de Equipamiento Médico (8 créditos)\n",
      "  ↳ Previas: UC3S3, UC4S3, UC1S4, UC4S4\n",
      "UC3S5 - Taller de Mantenimiento de Equipos Medicos (10 créditos)\n",
      "  ↳ Previas: UC3S3, UC4S3, UC1S4, UC3S4, UC4S4\n",
      "UC4S5 - Matematica Avanzada 1 (9 créditos)\n",
      "  ↳ Previas: UC1S2, UC5S3\n",
      "UC1S6 - Instrumental de Laboratorio Clínico (9 créditos)\n",
      "  ↳ Previas: UC3S2, UC4S3\n",
      "UC2S6 - Informática Médica (8 créditos)\n",
      "  ↳ Previas: UC5S3, UC1S4, UC4S4\n",
      "UC3S6 - Instrumentación Médica Complementaria (10 créditos)\n",
      "  ↳ Previas: UC3S3, UC4S3, UC1S4, UC4S4\n",
      "UC4S6 - Matemática Avanzada II (9 créditos)\n",
      "  ↳ Previas: UC4S5\n",
      "UC5S6 - Física Avanzada (8 créditos)\n",
      "  ↳ Previas: UC1S3, UC3S3\n",
      "UC1S7 - Fisiopatologia (9 créditos)\n",
      "  ↳ Previas: UC1S6, UC3S6\n",
      "UC2S7 - Radiaciones No-ionizantes (7 créditos)\n",
      "  ↳ Previas: UC4S5, UC5S6\n",
      "UC3S7 - Programacion Digital Avanzada (7 créditos)\n",
      "  ↳ Previas: UC2S6, UC4S5\n",
      "UC4S7 - Legislacion para la Salud (5 créditos)\n",
      "  ↳ Previas: UC2S5, UC1S6, UC2S6, UC3S6\n",
      "UC5S7 - Economia para la Salud (5 créditos)\n",
      "  ↳ Previas: UC3S5, UC1S6, UC2S6, UC3S6\n",
      "UC1S8 - Bioestadística (7 créditos)\n",
      "  ↳ Previas: UC2S6\n",
      "UC2S8 - Señales y Sistemas (8 créditos)\n",
      "  ↳ Previas: UC1S4, UC2S4, UC4S6\n",
      "UC3S8 - Biomecánica y Biomateriales (7 créditos)\n",
      "  ↳ Previas: UC4S1, UC3S4\n",
      "UC4S8 - Metodología de la Investigación (5 créditos)\n",
      "  ↳ Previas: UC5S6, UC1S7\n",
      "UC5S8 - Higiene y Seguridad en Ambientes Hospitalarios (5 créditos)\n",
      "  ↳ Previas: UC1S7, UC4S7\n",
      "UC1S10 - Telesalud y Telemedicina (8 créditos)\n",
      "  ↳ Previas: UC2S9\n",
      "----------------------------------------\n"
     ]
    }
   ],
   "source": [
    "estudiante.ver_plan() # El estudiante puede ver solo el plan de su carrera"
   ]
  },
  {
   "cell_type": "markdown",
   "id": "461ee28a",
   "metadata": {},
   "source": [
    "## Pruebas clase Coordinadora"
   ]
  },
  {
   "cell_type": "code",
   "execution_count": 29,
   "id": "b28c401f",
   "metadata": {},
   "outputs": [],
   "source": [
    "from SdM import Coordinadora"
   ]
  },
  {
   "cell_type": "markdown",
   "id": "376af90f",
   "metadata": {},
   "source": [
    "## Crear objeto coordinadora"
   ]
  },
  {
   "cell_type": "code",
   "execution_count": 30,
   "id": "783026d8",
   "metadata": {},
   "outputs": [],
   "source": [
    "coordinadora=Coordinadora(\"El\",\"Escalon\")"
   ]
  },
  {
   "cell_type": "markdown",
   "id": "5b9df525",
   "metadata": {},
   "source": [
    "## Crear un plan a partir de la coordinadora"
   ]
  },
  {
   "cell_type": "code",
   "execution_count": 31,
   "id": "69dc64c8",
   "metadata": {},
   "outputs": [
    {
     "name": "stdout",
     "output_type": "stream",
     "text": [
      "El ha creado el plan 'Ingenieria Biomedica 2021 v2'.\n"
     ]
    }
   ],
   "source": [
    "plan2=coordinadora.crear_plan(\"Ingenieria Biomedica 2021 v2\",\"archivo UCS.json\") #Es exactamente el mismo plan pero ta le cambie el nombre"
   ]
  },
  {
   "cell_type": "markdown",
   "id": "b7956542",
   "metadata": {},
   "source": [
    "## Ver el plan a partir de la coordinadora"
   ]
  },
  {
   "cell_type": "code",
   "execution_count": 32,
   "id": "a459236e",
   "metadata": {},
   "outputs": [
    {
     "name": "stdout",
     "output_type": "stream",
     "text": [
      "Plan de Estudio: Ingenieria Biomedica 2021 v2\n",
      "----------------------------------------\n",
      "UC1S1 - Álgebra, Análisis y Geometría Analítica (8 créditos)\n",
      "UC2S1 - Mecánica, Ondas y Calor (10 créditos)\n",
      "UC3S1 - Química General e Inorgánica (9 créditos)\n",
      "UC4S1 - Taller Inicial de Tecnologías (8 créditos)\n",
      "UC5S1 - Salud y Sociedad (8 créditos)\n",
      "UC1S2 - Números Complejos y Ecuaciones Diferenciales (8 créditos)\n",
      "  ↳ Previas: UC1S1\n",
      "UC2S2 - Electricidad y Magnetismo (10 créditos)\n",
      "  ↳ Previas: UC1S1, UC2S1\n",
      "UC3S2 - Química Orgánica y Biológica (9 créditos)\n",
      "  ↳ Previas: UC3S1\n",
      "UC4S2 - Anatomía y Fisiología Humanas (10 créditos)\n",
      "  ↳ Previas: UC2S1, UC5S1\n",
      "UC1S3 - Optica y Radiaciones (10 créditos)\n",
      "  ↳ Previas: UC1S1, UC2S1\n",
      "UC2S3 - Electronica Analogica (10 créditos)\n",
      "  ↳ Previas: UC4S1, UC1S2, UC2S2\n",
      "UC3S3 - Electrotecnia (9 créditos)\n",
      "  ↳ Previas: UC1S2, UC2S2\n",
      "UC4S3 - Instalaciones Hospitalaria (9 créditos)\n",
      "  ↳ Previas: UC3S1, UC4S2\n",
      "UC1S4 - Electrofisiología Clínica (10 créditos)\n",
      "  ↳ Previas: UC4S2, UC2S3\n",
      "UC2S4 - Electrónica Digital (10 créditos)\n",
      "  ↳ Previas: UC2S3\n",
      "UC3S4 - Mecánica Máquinas y Materiales (9 créditos)\n",
      "  ↳ Previas: UC1S1, UC2S1\n",
      "UC4S4 - Imágenes Médicas (10 créditos)\n",
      "  ↳ Previas: UC4S2, UC1S3\n",
      "UC1S5 - Seguridad Electrica y Radiante (10 créditos)\n",
      "  ↳ Previas: UC3S3, UC4S3, UC1S4, UC4S4\n",
      "UC2S5 - Normativa de Equipamiento Médico (8 créditos)\n",
      "  ↳ Previas: UC3S3, UC4S3, UC1S4, UC4S4\n",
      "UC3S5 - Taller de Mantenimiento de Equipos Medicos (10 créditos)\n",
      "  ↳ Previas: UC3S3, UC4S3, UC1S4, UC3S4, UC4S4\n",
      "UC4S5 - Matematica Avanzada 1 (9 créditos)\n",
      "  ↳ Previas: UC1S2, UC5S3\n",
      "UC1S6 - Instrumental de Laboratorio Clínico (9 créditos)\n",
      "  ↳ Previas: UC3S2, UC4S3\n",
      "UC2S6 - Informática Médica (8 créditos)\n",
      "  ↳ Previas: UC5S3, UC1S4, UC4S4\n",
      "UC3S6 - Instrumentación Médica Complementaria (10 créditos)\n",
      "  ↳ Previas: UC3S3, UC4S3, UC1S4, UC4S4\n",
      "UC4S6 - Matemática Avanzada II (9 créditos)\n",
      "  ↳ Previas: UC4S5\n",
      "UC5S6 - Física Avanzada (8 créditos)\n",
      "  ↳ Previas: UC1S3, UC3S3\n",
      "UC1S7 - Fisiopatologia (9 créditos)\n",
      "  ↳ Previas: UC1S6, UC3S6\n",
      "UC2S7 - Radiaciones No-ionizantes (7 créditos)\n",
      "  ↳ Previas: UC4S5, UC5S6\n",
      "UC3S7 - Programacion Digital Avanzada (7 créditos)\n",
      "  ↳ Previas: UC2S6, UC4S5\n",
      "UC4S7 - Legislacion para la Salud (5 créditos)\n",
      "  ↳ Previas: UC2S5, UC1S6, UC2S6, UC3S6\n",
      "UC5S7 - Economia para la Salud (5 créditos)\n",
      "  ↳ Previas: UC3S5, UC1S6, UC2S6, UC3S6\n",
      "UC1S8 - Bioestadística (7 créditos)\n",
      "  ↳ Previas: UC2S6\n",
      "UC2S8 - Señales y Sistemas (8 créditos)\n",
      "  ↳ Previas: UC1S4, UC2S4, UC4S6\n",
      "UC3S8 - Biomecánica y Biomateriales (7 créditos)\n",
      "  ↳ Previas: UC4S1, UC3S4\n",
      "UC4S8 - Metodología de la Investigación (5 créditos)\n",
      "  ↳ Previas: UC5S6, UC1S7\n",
      "UC5S8 - Higiene y Seguridad en Ambientes Hospitalarios (5 créditos)\n",
      "  ↳ Previas: UC1S7, UC4S7\n",
      "UC1S10 - Telesalud y Telemedicina (8 créditos)\n",
      "  ↳ Previas: UC2S9\n",
      "----------------------------------------\n"
     ]
    }
   ],
   "source": [
    "coordinadora.ver_plan(plan2) # Si nos fijamos el estudiante puede ver el plan solo de su carrera, pero la coordinadora tiene la \n",
    "#posibilidad de seleccionar el plan que puede ver"
   ]
  },
  {
   "cell_type": "markdown",
   "id": "2141b0e6",
   "metadata": {},
   "source": [
    "## Ver que estudiantes estan inscriptos a un curso a partir de la coordinadora"
   ]
  },
  {
   "cell_type": "code",
   "execution_count": 33,
   "id": "102a1890",
   "metadata": {},
   "outputs": [
    {
     "name": "stdout",
     "output_type": "stream",
     "text": [
      "Estudiantes inscritos en Álgebra, Análisis y Geometría Analítica:\n",
      "- Julia Iturriaga\n"
     ]
    }
   ],
   "source": [
    "coordinadora.ver_estudiantes_curso(curso) "
   ]
  },
  {
   "cell_type": "markdown",
   "id": "52118b30",
   "metadata": {},
   "source": [
    "## Inscribir a un estudiante a un curso"
   ]
  },
  {
   "cell_type": "code",
   "execution_count": 34,
   "id": "f8551ddb",
   "metadata": {},
   "outputs": [
    {
     "name": "stdout",
     "output_type": "stream",
     "text": [
      "✔ Estudiante Magali Pereyra agregado al curso.\n"
     ]
    }
   ],
   "source": [
    "#Vamos a crear otro estudiante\n",
    "estudiante2= Estudiante(\"Magali\",\"Pereyra\",5601234,2022,plan)\n",
    "coordinadora.inscribir_a_curso(estudiante2,curso)"
   ]
  },
  {
   "cell_type": "markdown",
   "id": "7bbfb2e3",
   "metadata": {},
   "source": [
    "## Agregar una Uc aprobada y una Uc regular al estudiante"
   ]
  },
  {
   "cell_type": "code",
   "execution_count": 35,
   "id": "71608715",
   "metadata": {},
   "outputs": [
    {
     "name": "stdout",
     "output_type": "stream",
     "text": [
      "✔ Mecánica, Ondas y Calor fue agregada correctamente a las UCs aprobadas de Julia.\n",
      "✔ Química General e Inorgánica fue agregada correctamente a las UCs regulares de Julia.\n",
      "✖ Álgebra, Análisis y Geometría Analítica no está en las UCs regulares de Julia.\n",
      "UCs aprobadas:\n",
      "- UC2S1: Mecánica, Ondas y Calor\n",
      "UCs que estás cursando:\n",
      "- UC1S1: Álgebra, Análisis y Geometría Analítica\n",
      "UCs regulares:\n",
      "- UC3S1: Química General e Inorgánica\n"
     ]
    }
   ],
   "source": [
    "coordinadora.agregar_uc_aprobada(estudiante,\"UC2S1\")\n",
    "coordinadora.agregar_uc_regular(estudiante,\"UC3S1\")\n",
    "coordinadora.quitar_uc_regular(estudiante,\"UC1S1\")\n",
    "#Y podemos ver que se actualiza\n",
    "estudiante.ver_ucs_aprobadas()\n",
    "estudiante.ver_ucs_cursando()\n",
    "estudiante.ver_ucs_regulares()"
   ]
  },
  {
   "cell_type": "markdown",
   "id": "d6d3dc26",
   "metadata": {},
   "source": [
    "## Inscribir a un estudiante a examen"
   ]
  },
  {
   "cell_type": "code",
   "execution_count": 36,
   "id": "bce6f9fe",
   "metadata": {},
   "outputs": [
    {
     "name": "stdout",
     "output_type": "stream",
     "text": [
      "Examen para UC UC3S1 creado en el archivo examen_UC3S1_27-4.csv con éxito.\n",
      "Archivo CSV actualizado con los estudiantes inscritos en examen_UC3S1_27-4.csv.\n",
      "Estudiante Julia Iturriaga inscrito al examen de Química General e Inorgánica con éxito.\n",
      "Estas inscripto al examen de Química General e Inorgánica\n",
      "Estudiantes inscritos:\n",
      "Julia Iturriaga 54439461\n"
     ]
    }
   ],
   "source": [
    "#Ahora que el estudiante tiene uc regulares, la coordinadora lo va a inscribir a un examen\n",
    "#primero creamos el examen\n",
    "examen2=InstanciaDeExamen(\"UC3S1\",\"27-4\",\"13:15\")\n",
    "coordinadora.inscribir_a_examen(estudiante,examen2)\n",
    "#Y podemos ver los estudiantes inscriptos a un examen\n",
    "coordinadora.ver_estudiantes_examen(examen2)"
   ]
  },
  {
   "cell_type": "markdown",
   "id": "8b0725fa",
   "metadata": {},
   "source": [
    "## Quitar Ucs aprobadas o regulares"
   ]
  },
  {
   "cell_type": "code",
   "execution_count": 37,
   "id": "9bc7d2c4",
   "metadata": {},
   "outputs": [
    {
     "name": "stdout",
     "output_type": "stream",
     "text": [
      "✔ Química General e Inorgánica fue removida de las UCs regulares de Julia.\n",
      "✔ Química General e Inorgánica fue agregada correctamente a las UCs aprobadas de Julia.\n",
      "✔ Química General e Inorgánica fue removida de las UCs aprobadas de Julia.\n"
     ]
    }
   ],
   "source": [
    "#Si el estudiante aprueba el examen podemos quitar la uc en regulares y pasarla a aprobadas\n",
    "coordinadora.quitar_uc_regular(estudiante,\"UC3S1\")\n",
    "coordinadora.agregar_uc_aprobada(estudiante,\"UC3S1\")\n",
    "#Tambien podemos quitar una uc aprobada\n",
    "coordinadora.quitar_uc_aprobada(estudiante,\"UC3S1\")"
   ]
  },
  {
   "cell_type": "markdown",
   "id": "7dab3a8b",
   "metadata": {},
   "source": [
    "## Probando clase secretaria"
   ]
  },
  {
   "cell_type": "code",
   "execution_count": 38,
   "id": "b0e757f1",
   "metadata": {},
   "outputs": [],
   "source": [
    "from SdM import Secretaria"
   ]
  },
  {
   "cell_type": "markdown",
   "id": "062723ea",
   "metadata": {},
   "source": [
    "## Creamos objeto secretaria"
   ]
  },
  {
   "cell_type": "code",
   "execution_count": 39,
   "id": "0c207a3a",
   "metadata": {},
   "outputs": [],
   "source": [
    "secretaria=Secretaria(\"La\",\"Yesi\")"
   ]
  },
  {
   "cell_type": "markdown",
   "id": "6054b981",
   "metadata": {},
   "source": [
    "## Agregar estudiantes a curso"
   ]
  },
  {
   "cell_type": "code",
   "execution_count": 40,
   "id": "c124b521",
   "metadata": {},
   "outputs": [
    {
     "name": "stdout",
     "output_type": "stream",
     "text": [
      "✔ Estudiante Manuela Sosa agregado al curso.\n"
     ]
    }
   ],
   "source": [
    "estudiante3= Estudiante(\"Manuela\",\"Sosa\",54327111,2022,plan)\n",
    "secretaria.inscribir_a_curso(estudiante3,curso)"
   ]
  },
  {
   "cell_type": "markdown",
   "id": "188ae1ec",
   "metadata": {},
   "source": [
    "## Ver estudiantes en un curso"
   ]
  },
  {
   "cell_type": "code",
   "execution_count": 41,
   "id": "699d149f",
   "metadata": {},
   "outputs": [
    {
     "name": "stdout",
     "output_type": "stream",
     "text": [
      "Estudiantes inscritos en Álgebra, Análisis y Geometría Analítica:\n",
      "- Julia Iturriaga\n",
      "- Magali Pereyra\n",
      "- Manuela Sosa\n"
     ]
    }
   ],
   "source": [
    "# La secretaria no puede crear un curso pero si puede ver los estudiantes de uno\n",
    "secretaria.ver_estudiantes_curso(curso)"
   ]
  },
  {
   "cell_type": "markdown",
   "id": "7fa67886",
   "metadata": {},
   "source": [
    "## Inscribir estudiante a examen"
   ]
  },
  {
   "cell_type": "code",
   "execution_count": 42,
   "id": "13d3998c",
   "metadata": {},
   "outputs": [
    {
     "name": "stdout",
     "output_type": "stream",
     "text": [
      "✔ Química General e Inorgánica fue agregada correctamente a las UCs regulares de Lara.\n",
      "Archivo CSV actualizado con los estudiantes inscritos en examen_UC3S1_27-4.csv.\n",
      "Estudiante Lara Otazu inscrito al examen de Química General e Inorgánica con éxito.\n",
      "Estas inscripto al examen de Química General e Inorgánica\n"
     ]
    }
   ],
   "source": [
    "estudiante4= Estudiante(\"Lara\",\"Otazu\",5432198,2022,plan)\n",
    "secretaria.agregar_uc_regular(estudiante4,\"UC3S1\")\n",
    "secretaria.inscribir_a_examen(estudiante4,examen2)\n"
   ]
  },
  {
   "cell_type": "markdown",
   "id": "5209df4f",
   "metadata": {},
   "source": [
    "## Ver estudiantes inscriptos a un examen"
   ]
  },
  {
   "cell_type": "code",
   "execution_count": 43,
   "id": "4e18e253",
   "metadata": {},
   "outputs": [
    {
     "name": "stdout",
     "output_type": "stream",
     "text": [
      "Estudiantes inscritos:\n",
      "Julia Iturriaga 54439461\n",
      "Lara Otazu 5432198\n"
     ]
    }
   ],
   "source": [
    "secretaria.ver_estudiantes_examen(examen2)"
   ]
  },
  {
   "cell_type": "markdown",
   "id": "29417be5",
   "metadata": {},
   "source": [
    "## Estudiante quiere inscribirse a un curso para el q no tiene las previas"
   ]
  },
  {
   "cell_type": "code",
   "execution_count": 44,
   "id": "3119e29a",
   "metadata": {},
   "outputs": [
    {
     "name": "stdout",
     "output_type": "stream",
     "text": [
      "✔ Curso creado para Números Complejos y Ecuaciones Diferenciales (UC1S2) - 2022, Semestre 2\n",
      "No puedes inscribirte en la UC Números Complejos y Ecuaciones Diferenciales porque te faltan las siguientes previas:\n",
      "- Álgebra, Análisis y Geometría Analítica\n"
     ]
    }
   ],
   "source": [
    "#Coordinadora crea un curso \n",
    "\n",
    "curso7=coordinadora.crear_curso(\"UC1S2\",2022,2,plan)\n",
    "estudiante4.inscribirse_a_curso(curso7)\n",
    "\n"
   ]
  },
  {
   "cell_type": "markdown",
   "id": "753cc226",
   "metadata": {},
   "source": [
    "## Secretaria quiere inscribir a un curso a un estudiante que la esta cursando"
   ]
  },
  {
   "cell_type": "code",
   "execution_count": 45,
   "id": "cd0741c2",
   "metadata": {},
   "outputs": [
    {
     "name": "stdout",
     "output_type": "stream",
     "text": [
      "UCs que estás cursando:\n",
      "- UC1S1: Álgebra, Análisis y Geometría Analítica\n",
      "Ya está cursando esta UC.\n",
      "Magali no puede inscribirse al curso UC1S1\n"
     ]
    }
   ],
   "source": [
    "estudiante2.ver_ucs_cursando()\n",
    "\n",
    "secretaria.inscribir_a_curso(estudiante2,curso) #Va a imprimir un mensaje que no puede\n",
    "\n"
   ]
  },
  {
   "cell_type": "markdown",
   "id": "eedd11c0",
   "metadata": {},
   "source": [
    "## Coordinadora quiere inscribir a estudiante a un curso o a un examen de una materia que ya aprobo"
   ]
  },
  {
   "cell_type": "code",
   "execution_count": 46,
   "id": "dcfd8647",
   "metadata": {},
   "outputs": [
    {
     "name": "stdout",
     "output_type": "stream",
     "text": [
      "✔ Curso creado para Mecánica, Ondas y Calor (UC2S1) - 2022, Semestre 1\n",
      "✔ Mecánica, Ondas y Calor fue agregada correctamente a las UCs aprobadas de Manuela.\n",
      "Ya aprobó esta UC.\n",
      "Manuela no puede inscribirse al curso UC2S1\n",
      "Manuela no está regular en la UC UC2S1, no puede inscribirse al examen.\n"
     ]
    }
   ],
   "source": [
    "curso_uc2s1=coordinadora.crear_curso(\"UC2S1\",2022,1,plan)\n",
    "coordinadora.agregar_uc_aprobada(estudiante3,\"UC2S1\") \n",
    "coordinadora.inscribir_a_curso(estudiante3,curso_uc2s1) #Debe imprimir un mensaje\n",
    "coordinadora.inscribir_a_examen(estudiante3,curso_uc2s1) #Debe imprimir un mensaje\n"
   ]
  }
 ],
 "metadata": {
  "kernelspec": {
   "display_name": "base",
   "language": "python",
   "name": "python3"
  },
  "language_info": {
   "codemirror_mode": {
    "name": "ipython",
    "version": 3
   },
   "file_extension": ".py",
   "mimetype": "text/x-python",
   "name": "python",
   "nbconvert_exporter": "python",
   "pygments_lexer": "ipython3",
   "version": "3.12.3"
  }
 },
 "nbformat": 4,
 "nbformat_minor": 5
}
